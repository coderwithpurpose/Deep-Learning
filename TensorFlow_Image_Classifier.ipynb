{
 "cells": [
  {
   "cell_type": "code",
   "execution_count": 2,
   "metadata": {},
   "outputs": [],
   "source": [
    "from __future__ import absolute_import, division, print_function, unicode_literals\n",
    "# Import TensorFlow\n",
    "import tensorflow as tf"
   ]
  },
  {
   "cell_type": "code",
   "execution_count": 3,
   "metadata": {},
   "outputs": [],
   "source": [
    "mnist = tf.keras.datasets.mnist\n",
    "(x_train, y_train), (x_test, y_test) = mnist.load_data()\n",
    "x_train, x_test = x_train / 255.0, x_test / 255.0"
   ]
  },
  {
   "cell_type": "code",
   "execution_count": 4,
   "metadata": {},
   "outputs": [
    {
     "name": "stdout",
     "output_type": "stream",
     "text": [
      "(60000, 28, 28)\n"
     ]
    }
   ],
   "source": [
    "print(x_train.shape)"
   ]
  },
  {
   "cell_type": "code",
   "execution_count": 9,
   "metadata": {},
   "outputs": [],
   "source": [
    "model = tf.keras.models.Sequential([\n",
    "  tf.keras.layers.Flatten(input_shape=(28, 28)),\n",
    "  tf.keras.layers.Dense(128, activation='relu'),\n",
    "  tf.keras.layers.Dropout(0.2),\n",
    "  tf.keras.layers.Dense(128*2, activation='relu'),\n",
    "  tf.keras.layers.Dropout(0.3),\n",
    "  tf.keras.layers.Dense(10, activation='softmax')\n",
    "])\n",
    "model.compile(optimizer='adam',\n",
    "              loss='sparse_categorical_crossentropy',\n",
    "              metrics=['accuracy'])"
   ]
  },
  {
   "cell_type": "code",
   "execution_count": 10,
   "metadata": {},
   "outputs": [
    {
     "name": "stdout",
     "output_type": "stream",
     "text": [
      "20191021-120723\n"
     ]
    }
   ],
   "source": [
    "from datetime import datetime\n",
    "import time \n",
    "print(datetime.now().strftime(\"%Y%m%d-%H%M%S\"))\n",
    "logdir = \"logs/scalars/\" + datetime.now().strftime(\"%Y%m%d-%H%M%S\")\n",
    "tensorboard_callback = tf.keras.callbacks.TensorBoard(log_dir=logdir) "
   ]
  },
  {
   "cell_type": "code",
   "execution_count": 11,
   "metadata": {},
   "outputs": [
    {
     "name": "stdout",
     "output_type": "stream",
     "text": [
      "Train on 60000 samples, validate on 10000 samples\n",
      "Epoch 1/5\n",
      "60000/60000 [==============================] - 5s 87us/sample - loss: 0.2904 - acc: 0.9116 - val_loss: 0.1305 - val_acc: 0.9609\n",
      "Epoch 2/5\n",
      "60000/60000 [==============================] - 5s 85us/sample - loss: 0.1406 - acc: 0.9576 - val_loss: 0.0933 - val_acc: 0.9712\n",
      "Epoch 3/5\n",
      "60000/60000 [==============================] - 5s 82us/sample - loss: 0.1112 - acc: 0.9655 - val_loss: 0.0770 - val_acc: 0.9767\n",
      "Epoch 4/5\n",
      "60000/60000 [==============================] - 5s 83us/sample - loss: 0.0948 - acc: 0.9707 - val_loss: 0.0809 - val_acc: 0.9758\n",
      "Epoch 5/5\n",
      "60000/60000 [==============================] - 5s 84us/sample - loss: 0.0846 - acc: 0.9737 - val_loss: 0.0744 - val_acc: 0.9770\n"
     ]
    }
   ],
   "source": [
    "model_history = model.fit(x_train, y_train, epochs=5, validation_data=(x_test,y_test),callbacks=[tensorboard_callback])"
   ]
  },
  {
   "cell_type": "code",
   "execution_count": 13,
   "metadata": {},
   "outputs": [
    {
     "name": "stdout",
     "output_type": "stream",
     "text": [
      "Average test loss:  0.14431697743954758\n"
     ]
    },
    {
     "data": {
      "text/plain": [
       "0.95580673"
      ]
     },
     "execution_count": 13,
     "metadata": {},
     "output_type": "execute_result"
    }
   ],
   "source": [
    "import numpy as np \n",
    "print(\"Average test loss: \", np.average(model_history.history['loss']))\n",
    "np.average(model_history.history['acc'])"
   ]
  }
 ],
 "metadata": {
  "kernelspec": {
   "display_name": "Python 3",
   "language": "python",
   "name": "python3"
  },
  "language_info": {
   "codemirror_mode": {
    "name": "ipython",
    "version": 3
   },
   "file_extension": ".py",
   "mimetype": "text/x-python",
   "name": "python",
   "nbconvert_exporter": "python",
   "pygments_lexer": "ipython3",
   "version": "3.6.7"
  }
 },
 "nbformat": 4,
 "nbformat_minor": 2
}
