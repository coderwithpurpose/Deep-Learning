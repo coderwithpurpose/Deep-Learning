{
 "cells": [
  {
   "cell_type": "code",
   "execution_count": 4,
   "metadata": {},
   "outputs": [],
   "source": [
    "import tensorflow as tf \n",
    "import keras \n",
    "from tensorflow.layers import *"
   ]
  },
  {
   "cell_type": "markdown",
   "metadata": {},
   "source": [
    "# Tensorflow Classical Functions Clarification"
   ]
  },
  {
   "cell_type": "markdown",
   "metadata": {},
   "source": [
    "## Intro: \n",
    "    1. Tensorflow uses computational graphical method, where operations as the nodes of the graph and tensors to it’s edges and the execution happens when the graph executed in a session."
   ]
  },
  {
   "cell_type": "markdown",
   "metadata": {},
   "source": [
    "## A. Sessions:"
   ]
  },
  {
   "cell_type": "markdown",
   "metadata": {},
   "source": [
    "1. session allows coders to excute code and run graphs at the same session, while graph have no computations within it \n",
    "2. when session is created, memory allocation will be running in the background to store current variabvles. those variables can only be accessed using the same session, as it's only detected where it have been initilized "
   ]
  },
  {
   "cell_type": "code",
   "execution_count": 19,
   "metadata": {},
   "outputs": [
    {
     "name": "stdout",
     "output_type": "stream",
     "text": [
      "<tf.Variable 'foo_8:0' shape=() dtype=int32_ref>\n",
      "name: \"init_8\"\n",
      "op: \"NoOp\"\n",
      "input: \"^foo/Assign\"\n",
      "input: \"^foo_1/Assign\"\n",
      "input: \"^foo_2/Assign\"\n",
      "input: \"^foo_3/Assign\"\n",
      "input: \"^foo_4/Assign\"\n",
      "input: \"^foo_5/Assign\"\n",
      "input: \"^foo_6/Assign\"\n",
      "input: \"^foo_7/Assign\"\n",
      "input: \"^foo_8/Assign\"\n",
      "\n",
      "Tensor(\"Assign_8:0\", shape=(), dtype=int32_ref)\n",
      "13\n"
     ]
    }
   ],
   "source": [
    "with graph.as_default():\n",
    "    variable = tf.Variable(42, name='foo')\n",
    "    initialize = tf.global_variables_initializer()\n",
    "    assign = variable.assign(13)\n",
    "print(variable)\n",
    "print(initialize)\n",
    "print(assign)\n",
    "with tf.Session(graph=graph) as sess:\n",
    "    sess.run(initialize)\n",
    "    sess.run(assign)\n",
    "    print(sess.run(variable))"
   ]
  },
  {
   "cell_type": "markdown",
   "metadata": {},
   "source": [
    "##  B. Scope: "
   ]
  },
  {
   "cell_type": "code",
   "execution_count": 39,
   "metadata": {},
   "outputs": [
    {
     "data": {
      "text/plain": [
       "<tf.Operation 'init_1' type=NoOp>"
      ]
     },
     "execution_count": 39,
     "metadata": {},
     "output_type": "execute_result"
    }
   ],
   "source": [
    "var = tf.placeholder(dtype=tf.float32, shape=(None,1,47,47))\n",
    "init = tf.global_variables_initializer()\n",
    "init\n",
    "# with tf.Session(graph=graph) as sess:\n",
    "#     sess.run(initialize)\n",
    "#     print(sess.run('0'))"
   ]
  },
  {
   "cell_type": "markdown",
   "metadata": {},
   "source": [
    "## Data Flow (Parallel Programming)"
   ]
  }
 ],
 "metadata": {
  "kernelspec": {
   "display_name": "Python 3",
   "language": "python",
   "name": "python3"
  },
  "language_info": {
   "codemirror_mode": {
    "name": "ipython",
    "version": 3
   },
   "file_extension": ".py",
   "mimetype": "text/x-python",
   "name": "python",
   "nbconvert_exporter": "python",
   "pygments_lexer": "ipython3",
   "version": "3.6.7"
  }
 },
 "nbformat": 4,
 "nbformat_minor": 2
}
