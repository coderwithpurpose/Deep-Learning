{
 "cells": [
  {
   "cell_type": "code",
   "execution_count": 180,
   "metadata": {
    "collapsed": true
   },
   "outputs": [],
   "source": [
    "import tensorflow as tf \n",
    "import keras  \n",
    "from keras.layers import * \n",
    "from keras.optimizers import * \n",
    "from keras.models import Sequential, Model"
   ]
  },
  {
   "cell_type": "code",
   "execution_count": 159,
   "metadata": {},
   "outputs": [],
   "source": [
    "def model(image_size = 512, filter_size = 64, full_conv = False, classify=False):\n",
    "    \n",
    "    assert image_size % 8 ==0\n",
    "    model = Sequential() \n",
    "    \n",
    "    model.add(Permute((1,2,3),input_shape = (image_size,image_size,3)))\n",
    "    #### first layers ########\n",
    "    model.add(Conv2D(filters=filter_size,kernel_size=(3,3),activation=\"relu\", padding=\"same\",name=\"conv1_1\"))\n",
    "    model.add(Conv2D(filters=filter_size,kernel_size=(3,3),activation=\"relu\", padding=\"same\",name=\"conv1_2\")) \n",
    "    model.add(MaxPool2D(pool_size=2,strides=2, padding=\"same\"))\n",
    "    \n",
    "    #### second layers #######\n",
    "    model.add(Conv2D(filters=filter_size*2,kernel_size=(3,3),activation=\"relu\", padding=\"same\",name=\"conv2_1\"))\n",
    "    model.add(Conv2D(filters=filter_size*2,kernel_size=(3,3),activation=\"relu\", padding=\"same\",name=\"conv2_2\")) \n",
    "    model.add(MaxPool2D(pool_size=2,strides=2, padding=\"same\"))\n",
    "    \n",
    "    #### third layers #######\n",
    "    model.add(Conv2D(filters=filter_size*4,kernel_size=(3,3),activation=\"relu\", padding=\"same\",name=\"conv3_1\"))\n",
    "    model.add(Conv2D(filters=filter_size*4,kernel_size=(3,3),activation=\"relu\", padding=\"same\",name=\"conv3_2\")) \n",
    "    model.add(Conv2D(filters=filter_size*4,kernel_size=(3,3),activation=\"relu\", padding=\"same\",name=\"conv3_3\")) \n",
    "    model.add(MaxPool2D(pool_size=2,strides=2, padding=\"same\"))\n",
    "\n",
    "    #### fourth layers #######\n",
    "    model.add(Conv2D(filters=filter_size*8,kernel_size=(3,3),activation=\"relu\", padding=\"same\",name=\"conv4_1\"))\n",
    "    model.add(Conv2D(filters=filter_size*8,kernel_size=(3,3),activation=\"relu\", padding=\"same\",name=\"conv4_2\")) \n",
    "    model.add(Conv2D(filters=filter_size*8,kernel_size=(3,3), activation=\"relu\",padding=\"same\",name=\"conv4_3\")) \n",
    "    model.add(MaxPool2D(pool_size=2,strides=2, padding=\"same\",name=\"pool4\"))\n",
    "    \n",
    "    #### fifth layers #######\n",
    "    model.add(Conv2D(filters=filter_size*8,kernel_size=(3,3),activation=\"relu\", padding=\"same\",name=\"conv5_1\"))\n",
    "    model.add(Conv2D(filters=filter_size*8,kernel_size=(3,3),activation=\"relu\", padding=\"same\",name=\"conv5_2\")) \n",
    "    model.add(Conv2D(filters=filter_size*8,kernel_size=(3,3),activation=\"relu\", padding=\"same\",name=\"conv5_3\")) \n",
    "    model.add(MaxPool2D(pool_size=2,strides=2, padding=\"same\"))\n",
    "    \n",
    "    if classify: \n",
    "        #### flatten image ###### \n",
    "        model.add(Flatten(name=\"flatten\"))\n",
    "        model.add(Dense(4096, activation='relu', name='dense1'))\n",
    "        model.add(Dense(4096, activation='relu', name='dense2'))\n",
    "        model.add(Dense(num_classes, activation='softmax', name='predictions'))\n",
    "    elif full_conv:\n",
    "        ##### fullt connected layers #########\n",
    "        model.add(Conv2D(filters=filter_size*64,kernel_size=(1,1),activation=\"relu\", padding=\"same\", name = \"fc6\"))\n",
    "        model.add(Conv2D(filters=filter_size*64,kernel_size=(1,1),activation=\"relu\", padding=\"same\", name = \"fc7\"))\n",
    "        return model\n",
    "    return model"
   ]
  },
  {
   "cell_type": "code",
   "execution_count": 213,
   "metadata": {},
   "outputs": [],
   "source": [
    "\n",
    "def FCN8(model,num_classes=21): \n",
    "    \n",
    "    # Gives the classifications scores for each of the 10 classes including background\n",
    "    model.add(Convolution2D(num_classes,kernel_size=(1,1),padding=\"same\",activation=\"relu\",name = \"score_fr\")) \n",
    "    conv_size = model.layers[-1].output_shape[1]\n",
    "    \n",
    "    #### bilinear interpolation ##### \n",
    "    model.add(Conv2DTranspose(num_classes,kernel_size=4,strides=2,activation=None, padding=\"valid\",name=\"score_2\"))\n",
    "    extra = model.layers[-1].output_shape[1] - 2*conv_size\n",
    "    #### crop region added because of valid padding ##### \n",
    "    model.add(Cropping2D(cropping=((0,extra),(0,extra)),name=\"cropping_1\")) \n",
    "    \n",
    "    ###### skip functiions ###############\n",
    "    \n",
    "    ### We add a 1 × 1 convolution layer on top of pool4 to produce additional class predictions. #### \n",
    "    pool4 = model.layers[14].output\n",
    "    cv7 = model.layers[-1].output\n",
    "    \n",
    "    fcn_conv1 = Conv2D(num_classes,kernel_size=(1,1), padding=\"same\",activation=None, name = \"score_pool4\")(pool4)\n",
    "    conv_size = model.layers[-1].output_shape[1] #### size after first cropping \n",
    "    add1 = (add(inputs=[fcn_conv1,cv7]))\n",
    "    \n",
    "    \n",
    "    deconv1 = Conv2DTranspose(num_classes, padding=\"valid\", kernel_size=(4,4),strides=(2,2))(add1)\n",
    "        \n",
    "#     extra = deconv1.[1] - 2*conv_size\n",
    "    crop1 = Cropping2D(cropping=((0,extra),(0,extra)))(deconv1)\n",
    "    print(crop1)\n",
    "    print(extra)\n",
    "    return model"
   ]
  },
  {
   "cell_type": "code",
   "execution_count": 214,
   "metadata": {},
   "outputs": [
    {
     "ename": "TypeError",
     "evalue": "__int__ returned non-int (type NoneType)",
     "output_type": "error",
     "traceback": [
      "\u001b[1;31m---------------------------------------------------------------------------\u001b[0m",
      "\u001b[1;31mTypeError\u001b[0m                                 Traceback (most recent call last)",
      "\u001b[1;32m<ipython-input-214-02a60d9f71c7>\u001b[0m in \u001b[0;36m<module>\u001b[1;34m()\u001b[0m\n\u001b[0;32m      1\u001b[0m \u001b[0mvgg16\u001b[0m \u001b[1;33m=\u001b[0m \u001b[0mmodel\u001b[0m\u001b[1;33m(\u001b[0m\u001b[0mimage_size\u001b[0m\u001b[1;33m=\u001b[0m\u001b[1;36m512\u001b[0m\u001b[1;33m,\u001b[0m \u001b[0mfull_conv\u001b[0m\u001b[1;33m=\u001b[0m\u001b[1;32mTrue\u001b[0m\u001b[1;33m)\u001b[0m\u001b[1;33m\u001b[0m\u001b[1;33m\u001b[0m\u001b[0m\n\u001b[1;32m----> 2\u001b[1;33m \u001b[0mfcn8\u001b[0m \u001b[1;33m=\u001b[0m \u001b[0mFCN8\u001b[0m\u001b[1;33m(\u001b[0m\u001b[0mmodel\u001b[0m\u001b[1;33m=\u001b[0m\u001b[0mvgg16\u001b[0m\u001b[1;33m)\u001b[0m\u001b[1;33m\u001b[0m\u001b[1;33m\u001b[0m\u001b[0m\n\u001b[0m\u001b[0;32m      3\u001b[0m \u001b[1;31m# fcn8.summary()\u001b[0m\u001b[1;33m\u001b[0m\u001b[1;33m\u001b[0m\u001b[1;33m\u001b[0m\u001b[0m\n",
      "\u001b[1;32m<ipython-input-213-e84fd64a1488>\u001b[0m in \u001b[0;36mFCN8\u001b[1;34m(model, num_classes)\u001b[0m\n\u001b[0;32m     27\u001b[0m \u001b[1;33m\u001b[0m\u001b[0m\n\u001b[0;32m     28\u001b[0m     \u001b[0mextra\u001b[0m \u001b[1;33m=\u001b[0m \u001b[0mdeconv1\u001b[0m\u001b[1;33m.\u001b[0m\u001b[0mshape\u001b[0m\u001b[1;33m[\u001b[0m\u001b[1;36m1\u001b[0m\u001b[1;33m]\u001b[0m \u001b[1;33m-\u001b[0m \u001b[1;36m2\u001b[0m\u001b[1;33m*\u001b[0m\u001b[0mconv_size\u001b[0m\u001b[1;33m\u001b[0m\u001b[1;33m\u001b[0m\u001b[0m\n\u001b[1;32m---> 29\u001b[1;33m     \u001b[0mcrop1\u001b[0m \u001b[1;33m=\u001b[0m \u001b[0mCropping2D\u001b[0m\u001b[1;33m(\u001b[0m\u001b[0mcropping\u001b[0m\u001b[1;33m=\u001b[0m\u001b[1;33m(\u001b[0m\u001b[1;33m(\u001b[0m\u001b[1;36m0\u001b[0m\u001b[1;33m,\u001b[0m\u001b[0mextra\u001b[0m\u001b[1;33m)\u001b[0m\u001b[1;33m,\u001b[0m\u001b[1;33m(\u001b[0m\u001b[1;36m0\u001b[0m\u001b[1;33m,\u001b[0m\u001b[0mextra\u001b[0m\u001b[1;33m)\u001b[0m\u001b[1;33m)\u001b[0m\u001b[1;33m)\u001b[0m\u001b[1;33m(\u001b[0m\u001b[0mdeconv1\u001b[0m\u001b[1;33m)\u001b[0m\u001b[1;33m\u001b[0m\u001b[1;33m\u001b[0m\u001b[0m\n\u001b[0m\u001b[0;32m     30\u001b[0m     \u001b[0mprint\u001b[0m\u001b[1;33m(\u001b[0m\u001b[0mcrop1\u001b[0m\u001b[1;33m)\u001b[0m\u001b[1;33m\u001b[0m\u001b[1;33m\u001b[0m\u001b[0m\n\u001b[0;32m     31\u001b[0m     \u001b[0mprint\u001b[0m\u001b[1;33m(\u001b[0m\u001b[0mextra\u001b[0m\u001b[1;33m)\u001b[0m\u001b[1;33m\u001b[0m\u001b[1;33m\u001b[0m\u001b[0m\n",
      "\u001b[1;32mC:\\Users\\me89611\\AppData\\Local\\conda\\conda\\envs\\my_root\\lib\\site-packages\\keras\\legacy\\interfaces.py\u001b[0m in \u001b[0;36mwrapper\u001b[1;34m(*args, **kwargs)\u001b[0m\n\u001b[0;32m     89\u001b[0m                 warnings.warn('Update your `' + object_name + '` call to the ' +\n\u001b[0;32m     90\u001b[0m                               'Keras 2 API: ' + signature, stacklevel=2)\n\u001b[1;32m---> 91\u001b[1;33m             \u001b[1;32mreturn\u001b[0m \u001b[0mfunc\u001b[0m\u001b[1;33m(\u001b[0m\u001b[1;33m*\u001b[0m\u001b[0margs\u001b[0m\u001b[1;33m,\u001b[0m \u001b[1;33m**\u001b[0m\u001b[0mkwargs\u001b[0m\u001b[1;33m)\u001b[0m\u001b[1;33m\u001b[0m\u001b[1;33m\u001b[0m\u001b[0m\n\u001b[0m\u001b[0;32m     92\u001b[0m         \u001b[0mwrapper\u001b[0m\u001b[1;33m.\u001b[0m\u001b[0m_original_function\u001b[0m \u001b[1;33m=\u001b[0m \u001b[0mfunc\u001b[0m\u001b[1;33m\u001b[0m\u001b[1;33m\u001b[0m\u001b[0m\n\u001b[0;32m     93\u001b[0m         \u001b[1;32mreturn\u001b[0m \u001b[0mwrapper\u001b[0m\u001b[1;33m\u001b[0m\u001b[1;33m\u001b[0m\u001b[0m\n",
      "\u001b[1;32mC:\\Users\\me89611\\AppData\\Local\\conda\\conda\\envs\\my_root\\lib\\site-packages\\keras\\layers\\convolutional.py\u001b[0m in \u001b[0;36m__init__\u001b[1;34m(self, cropping, data_format, **kwargs)\u001b[0m\n\u001b[0;32m   2473\u001b[0m             height_cropping = conv_utils.normalize_tuple(\n\u001b[0;32m   2474\u001b[0m                 \u001b[0mcropping\u001b[0m\u001b[1;33m[\u001b[0m\u001b[1;36m0\u001b[0m\u001b[1;33m]\u001b[0m\u001b[1;33m,\u001b[0m \u001b[1;36m2\u001b[0m\u001b[1;33m,\u001b[0m\u001b[1;33m\u001b[0m\u001b[1;33m\u001b[0m\u001b[0m\n\u001b[1;32m-> 2475\u001b[1;33m                 '1st entry of cropping')\n\u001b[0m\u001b[0;32m   2476\u001b[0m             width_cropping = conv_utils.normalize_tuple(\n\u001b[0;32m   2477\u001b[0m                 \u001b[0mcropping\u001b[0m\u001b[1;33m[\u001b[0m\u001b[1;36m1\u001b[0m\u001b[1;33m]\u001b[0m\u001b[1;33m,\u001b[0m \u001b[1;36m2\u001b[0m\u001b[1;33m,\u001b[0m\u001b[1;33m\u001b[0m\u001b[1;33m\u001b[0m\u001b[0m\n",
      "\u001b[1;32mC:\\Users\\me89611\\AppData\\Local\\conda\\conda\\envs\\my_root\\lib\\site-packages\\keras\\utils\\conv_utils.py\u001b[0m in \u001b[0;36mnormalize_tuple\u001b[1;34m(value, n, name)\u001b[0m\n\u001b[0;32m     40\u001b[0m         \u001b[1;32mfor\u001b[0m \u001b[0msingle_value\u001b[0m \u001b[1;32min\u001b[0m \u001b[0mvalue_tuple\u001b[0m\u001b[1;33m:\u001b[0m\u001b[1;33m\u001b[0m\u001b[1;33m\u001b[0m\u001b[0m\n\u001b[0;32m     41\u001b[0m             \u001b[1;32mtry\u001b[0m\u001b[1;33m:\u001b[0m\u001b[1;33m\u001b[0m\u001b[1;33m\u001b[0m\u001b[0m\n\u001b[1;32m---> 42\u001b[1;33m                 \u001b[0mint\u001b[0m\u001b[1;33m(\u001b[0m\u001b[0msingle_value\u001b[0m\u001b[1;33m)\u001b[0m\u001b[1;33m\u001b[0m\u001b[1;33m\u001b[0m\u001b[0m\n\u001b[0m\u001b[0;32m     43\u001b[0m             \u001b[1;32mexcept\u001b[0m \u001b[0mValueError\u001b[0m\u001b[1;33m:\u001b[0m\u001b[1;33m\u001b[0m\u001b[1;33m\u001b[0m\u001b[0m\n\u001b[0;32m     44\u001b[0m                 raise ValueError('The `' + name + '` argument must be a tuple of ' +\n",
      "\u001b[1;31mTypeError\u001b[0m: __int__ returned non-int (type NoneType)"
     ]
    }
   ],
   "source": [
    "vgg16 = model(image_size=512, full_conv=True)\n",
    "fcn8 = FCN8(model=vgg16)\n",
    "# fcn8.summary()"
   ]
  }
 ],
 "metadata": {
  "kernelspec": {
   "display_name": "Python 3",
   "language": "python",
   "name": "python3"
  },
  "language_info": {
   "codemirror_mode": {
    "name": "ipython",
    "version": 3
   },
   "file_extension": ".py",
   "mimetype": "text/x-python",
   "name": "python",
   "nbconvert_exporter": "python",
   "pygments_lexer": "ipython3",
   "version": "3.6.7"
  }
 },
 "nbformat": 4,
 "nbformat_minor": 2
}
