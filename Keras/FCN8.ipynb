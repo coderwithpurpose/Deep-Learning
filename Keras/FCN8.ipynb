{
 "cells": [
  {
   "cell_type": "code",
   "execution_count": 14,
   "metadata": {},
   "outputs": [],
   "source": [
    "import tensorflow as tf \n",
    "import numpy as np \n",
    "import keras\n",
    "from keras.models import Sequential\n",
    "from keras.layers import * \n",
    "from keras.optimizers import * "
   ]
  },
  {
   "cell_type": "code",
   "execution_count": 12,
   "metadata": {},
   "outputs": [],
   "source": [
    "input_tesor = Input((512,512,3), dtype=tf.float32)\n",
    "\n",
    "cv1 = Conv2D(filters=64,kernel_size=3, activation=\"relu\",padding=\"SAME\", name=\"CV1_1\")(input_tesor)\n",
    "cv1 = Conv2D(filters=64,kernel_size=3, activation=\"relu\",padding=\"SAME\", name=\"CV1_2\")(cv1)\n",
    "pool1 = MaxPool2D(pool_size=2, name = \"pool_1\")(cv1)\n",
    "\n",
    "cv2 = Conv2D(filters=64*2,kernel_size=3, activation=\"relu\",padding=\"SAME\", name=\"CV2_1\")(pool1)\n",
    "cv2 = Conv2D(filters=64*2,kernel_size=3, activation=\"relu\",padding=\"SAME\", name=\"CV2_2\")(cv2)\n",
    "pool2 = MaxPool2D(pool_size=2, name = \"pool_2\")(cv2)\n",
    "\n",
    "\n",
    "cv3 = Conv2D(filters=64*4,kernel_size=3, activation=\"relu\",padding=\"SAME\", name=\"CV3_1\")(pool2)\n",
    "cv3 = Conv2D(filters=64*4,kernel_size=3, activation=\"relu\",padding=\"SAME\", name=\"CV3_2\")(cv3)\n",
    "pool3 = MaxPool2D(pool_size=2, name = \"pool_3\")(cv3)\n",
    "\n",
    "cv4 = Conv2D(filters=64*8,kernel_size=3, activation=\"relu\",padding=\"SAME\", name=\"CV4_1\")(pool3)\n",
    "cv4 = Conv2D(filters=64*8,kernel_size=3, activation=\"relu\",padding=\"SAME\", name=\"CV4_2\")(cv4)\n",
    "pool4 = MaxPool2D(pool_size=2, name = \"pool_4\")(cv4)\n",
    "\n",
    "cv5 = Conv2D(filters=64*8,kernel_size=3, activation=\"relu\",padding=\"SAME\", name=\"CV5_1\")(pool4)\n",
    "cv5 = Conv2D(filters=64*8,kernel_size=3, activation=\"relu\",padding=\"SAME\", name=\"CV5_2\")(cv5)\n",
    "cv5 = Conv2D(filters=64*8,kernel_size=3, activation=\"relu\",padding=\"SAME\", name=\"CV5_3\")(cv5)\n",
    "pool5 = MaxPool2D(pool_size=2, name = \"pool_5\")(cv5)\n",
    "\n",
    "fc6 = Conv2D(filters=64*64,kernel_size=7, activation=\"relu\",padding=\"SAME\", name=\"fc6\")(pool5) \n",
    "fc6 = Dropout(0.5)(fc6)\n",
    "\n",
    "fc7 = Conv2D(filters=64*64,kernel_size=1, activation=\"relu\",padding=\"SAME\", name=\"CV7\")(fc6)\n",
    "fc7 = Dropout(0.5)(fc7)\n",
    "\n",
    "# FC6 = Conv2D(filters=21,kernel_size=1, activation=\"relu\",padding=\"SAME\", name=\"fc6\")(fc7)"
   ]
  },
  {
   "cell_type": "code",
   "execution_count": 13,
   "metadata": {},
   "outputs": [
    {
     "data": {
      "text/plain": [
       "<tf.Tensor 'fc6_4/Relu:0' shape=(?, 16, 16, 21) dtype=float32>"
      ]
     },
     "execution_count": 13,
     "metadata": {},
     "output_type": "execute_result"
    }
   ],
   "source": [
    "fc8 = Conv2D(filters=21,kernel_size=1, activation=\"relu\",padding=\"SAME\", name=\"fc8\")(fc7)"
   ]
  },
  {
   "cell_type": "code",
   "execution_count": 20,
   "metadata": {},
   "outputs": [],
   "source": [
    "model = Sequential()\n",
    "\n",
    "model.add(Conv2D(filters=64,kernel_size=3, activation=\"relu\",padding=\"SAME\", name=\"CV1_1\"))\n",
    "model.add(Conv2D(filters=64,kernel_size=3, activation=\"relu\",padding=\"SAME\", name=\"CV1_2\"))\n",
    "model.add(MaxPool2D(pool_size=2, name = \"pool_1\"))\n",
    "\n",
    "model.add(Conv2D(filters=64*2,kernel_size=3, activation=\"relu\",padding=\"SAME\", name=\"CV2_1\"))\n",
    "model.add(Conv2D(filters=64*2,kernel_size=3, activation=\"relu\",padding=\"SAME\", name=\"CV2_2\"))\n",
    "model.add(MaxPool2D(pool_size=2, name = \"pool_2\"))\n",
    "\n",
    "model.add(Conv2D(filters=64*4,kernel_size=3, activation=\"relu\",padding=\"SAME\", name=\"CV3_1\"))\n",
    "model.add(Conv2D(filters=64*4,kernel_size=3, activation=\"relu\",padding=\"SAME\", name=\"CV3_2\"))\n",
    "model.add(MaxPool2D(pool_size=2, name = \"pool_3\"))\n",
    "\n",
    "model.add(Conv2D(filters=64*8,kernel_size=3, activation=\"relu\",padding=\"SAME\", name=\"CV4_1\"))\n",
    "model.add(Conv2D(filters=64*8,kernel_size=3, activation=\"relu\",padding=\"SAME\", name=\"CV4_2\"))\n",
    "model.add(MaxPool2D(pool_size=2, name = \"pool_4\"))\n",
    "\n",
    "model.add(Conv2D(filters=64*8,kernel_size=3, activation=\"relu\",padding=\"SAME\", name=\"CV5_1\"))\n",
    "model.add(Conv2D(filters=64*8,kernel_size=3, activation=\"relu\",padding=\"SAME\", name=\"CV5_2\"))\n",
    "model.add(Conv2D(filters=64*8,kernel_size=3, activation=\"relu\",padding=\"SAME\", name=\"CV5_3\"))\n",
    "model.add(MaxPool2D(pool_size=2, name = \"pool_5\"))\n",
    "\n",
    "model.add(Conv2D(filters=64*64,kernel_size=7, activation=\"relu\",padding=\"SAME\", name=\"fc6\")) \n",
    "model.add(Dropout(0.5))\n",
    "\n",
    "model.add(Conv2D(filters=64*64,kernel_size=1, activation=\"relu\",padding=\"SAME\", name=\"CV7\"))\n",
    "model.add(Dropout(0.5))\n"
   ]
  },
  {
   "cell_type": "code",
   "execution_count": 22,
   "metadata": {},
   "outputs": [
    {
     "ename": "ValueError",
     "evalue": "Please provide as model inputs either a single array or a list of arrays. You passed: x=512",
     "output_type": "error",
     "traceback": [
      "\u001b[1;31m---------------------------------------------------------------------------\u001b[0m",
      "\u001b[1;31mValueError\u001b[0m                                Traceback (most recent call last)",
      "\u001b[1;32m<ipython-input-22-7dfdd10495e8>\u001b[0m in \u001b[0;36m<module>\u001b[1;34m()\u001b[0m\n\u001b[1;32m----> 1\u001b[1;33m \u001b[0mmodel\u001b[0m\u001b[1;33m.\u001b[0m\u001b[0mfit\u001b[0m\u001b[1;33m(\u001b[0m\u001b[1;36m512\u001b[0m\u001b[1;33m)\u001b[0m\u001b[1;33m\u001b[0m\u001b[1;33m\u001b[0m\u001b[0m\n\u001b[0m\u001b[0;32m      2\u001b[0m \u001b[0mmodel\u001b[0m\u001b[1;33m.\u001b[0m\u001b[0msummary\u001b[0m\u001b[1;33m(\u001b[0m\u001b[1;33m)\u001b[0m\u001b[1;33m\u001b[0m\u001b[1;33m\u001b[0m\u001b[0m\n",
      "\u001b[1;32mC:\\Users\\me89611\\AppData\\Local\\conda\\conda\\envs\\my_root\\lib\\site-packages\\keras\\engine\\training.py\u001b[0m in \u001b[0;36mfit\u001b[1;34m(self, x, y, batch_size, epochs, verbose, callbacks, validation_split, validation_data, shuffle, class_weight, sample_weight, initial_epoch, steps_per_epoch, validation_steps, validation_freq, max_queue_size, workers, use_multiprocessing, **kwargs)\u001b[0m\n\u001b[0;32m   1152\u001b[0m             \u001b[0msample_weight\u001b[0m\u001b[1;33m=\u001b[0m\u001b[0msample_weight\u001b[0m\u001b[1;33m,\u001b[0m\u001b[1;33m\u001b[0m\u001b[1;33m\u001b[0m\u001b[0m\n\u001b[0;32m   1153\u001b[0m             \u001b[0mclass_weight\u001b[0m\u001b[1;33m=\u001b[0m\u001b[0mclass_weight\u001b[0m\u001b[1;33m,\u001b[0m\u001b[1;33m\u001b[0m\u001b[1;33m\u001b[0m\u001b[0m\n\u001b[1;32m-> 1154\u001b[1;33m             batch_size=batch_size)\n\u001b[0m\u001b[0;32m   1155\u001b[0m \u001b[1;33m\u001b[0m\u001b[0m\n\u001b[0;32m   1156\u001b[0m         \u001b[1;31m# Prepare validation data.\u001b[0m\u001b[1;33m\u001b[0m\u001b[1;33m\u001b[0m\u001b[1;33m\u001b[0m\u001b[0m\n",
      "\u001b[1;32mC:\\Users\\me89611\\AppData\\Local\\conda\\conda\\envs\\my_root\\lib\\site-packages\\keras\\engine\\training.py\u001b[0m in \u001b[0;36m_standardize_user_data\u001b[1;34m(self, x, y, sample_weight, class_weight, check_array_lengths, batch_size)\u001b[0m\n\u001b[0;32m    495\u001b[0m                                      \u001b[1;34m'either a single '\u001b[0m\u001b[1;33m\u001b[0m\u001b[1;33m\u001b[0m\u001b[0m\n\u001b[0;32m    496\u001b[0m                                      \u001b[1;34m'array or a list of arrays. '\u001b[0m\u001b[1;33m\u001b[0m\u001b[1;33m\u001b[0m\u001b[0m\n\u001b[1;32m--> 497\u001b[1;33m                                      'You passed: x=' + str(x))\n\u001b[0m\u001b[0;32m    498\u001b[0m                 \u001b[0mall_inputs\u001b[0m\u001b[1;33m.\u001b[0m\u001b[0mappend\u001b[0m\u001b[1;33m(\u001b[0m\u001b[0mx\u001b[0m\u001b[1;33m)\u001b[0m\u001b[1;33m\u001b[0m\u001b[1;33m\u001b[0m\u001b[0m\n\u001b[0;32m    499\u001b[0m \u001b[1;33m\u001b[0m\u001b[0m\n",
      "\u001b[1;31mValueError\u001b[0m: Please provide as model inputs either a single array or a list of arrays. You passed: x=512"
     ]
    }
   ],
   "source": [
    "model.fit(512)\n",
    "model.summary()"
   ]
  }
 ],
 "metadata": {
  "kernelspec": {
   "display_name": "Python 3",
   "language": "python",
   "name": "python3"
  },
  "language_info": {
   "codemirror_mode": {
    "name": "ipython",
    "version": 3
   },
   "file_extension": ".py",
   "mimetype": "text/x-python",
   "name": "python",
   "nbconvert_exporter": "python",
   "pygments_lexer": "ipython3",
   "version": "3.6.7"
  }
 },
 "nbformat": 4,
 "nbformat_minor": 2
}
