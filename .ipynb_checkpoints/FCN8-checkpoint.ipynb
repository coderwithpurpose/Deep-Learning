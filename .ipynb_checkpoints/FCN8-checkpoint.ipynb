{
 "cells": [
  {
   "cell_type": "code",
   "execution_count": 2,
   "metadata": {},
   "outputs": [],
   "source": [
    "import tensorflow as tf \n",
    "import numpy as np \n",
    "import keras\n",
    "from keras.models import Sequential\n",
    "from keras.layers import * \n",
    "from keras.optimizers import * "
   ]
  },
  {
   "cell_type": "code",
   "execution_count": 12,
   "metadata": {},
   "outputs": [],
   "source": [
    "input_tesor = Input((512,512,3), dtype=tf.float32)\n",
    "\n",
    "cv1 = Conv2D(filters=64,kernel_size=3, activation=\"relu\",padding=\"SAME\", name=\"CV1_1\")(input_tesor)\n",
    "cv1 = Conv2D(filters=64,kernel_size=3, activation=\"relu\",padding=\"SAME\", name=\"CV1_2\")(cv1)\n",
    "pool1 = MaxPool2D(pool_size=2, name = \"pool_1\")(cv1)\n",
    "\n",
    "cv2 = Conv2D(filters=64*2,kernel_size=3, activation=\"relu\",padding=\"SAME\", name=\"CV2_1\")(pool1)\n",
    "cv2 = Conv2D(filters=64*2,kernel_size=3, activation=\"relu\",padding=\"SAME\", name=\"CV2_2\")(cv2)\n",
    "pool2 = MaxPool2D(pool_size=2, name = \"pool_2\")(cv2)\n",
    "\n",
    "\n",
    "cv3 = Conv2D(filters=64*4,kernel_size=3, activation=\"relu\",padding=\"SAME\", name=\"CV3_1\")(pool2)\n",
    "cv3 = Conv2D(filters=64*4,kernel_size=3, activation=\"relu\",padding=\"SAME\", name=\"CV3_2\")(cv3)\n",
    "pool3 = MaxPool2D(pool_size=2, name = \"pool_3\")(cv3)\n",
    "\n",
    "cv4 = Conv2D(filters=64*8,kernel_size=3, activation=\"relu\",padding=\"SAME\", name=\"CV4_1\")(pool3)\n",
    "cv4 = Conv2D(filters=64*8,kernel_size=3, activation=\"relu\",padding=\"SAME\", name=\"CV4_2\")(cv4)\n",
    "pool4 = MaxPool2D(pool_size=2, name = \"pool_4\")(cv4)\n",
    "\n",
    "cv5 = Conv2D(filters=64*8,kernel_size=3, activation=\"relu\",padding=\"SAME\", name=\"CV5_1\")(pool4)\n",
    "cv5 = Conv2D(filters=64*8,kernel_size=3, activation=\"relu\",padding=\"SAME\", name=\"CV5_2\")(cv5)\n",
    "cv5 = Conv2D(filters=64*8,kernel_size=3, activation=\"relu\",padding=\"SAME\", name=\"CV5_3\")(cv5)\n",
    "pool5 = MaxPool2D(pool_size=2, name = \"pool_5\")(cv5)\n",
    "\n",
    "fc6 = Conv2D(filters=64*64,kernel_size=7, activation=\"relu\",padding=\"SAME\", name=\"fc6\")(pool5) \n",
    "fc6 = Dropout(0.5)(fc6)\n",
    "\n",
    "fc7 = Conv2D(filters=64*64,kernel_size=1, activation=\"relu\",padding=\"SAME\", name=\"CV7\")(fc6)\n",
    "fc7 = Dropout(0.5)(fc7)\n",
    "\n",
    "# FC6 = Conv2D(filters=21,kernel_size=1, activation=\"relu\",padding=\"SAME\", name=\"fc6\")(fc7)"
   ]
  },
  {
   "cell_type": "code",
   "execution_count": 13,
   "metadata": {},
   "outputs": [
    {
     "data": {
      "text/plain": [
       "<tf.Tensor 'fc6_4/Relu:0' shape=(?, 16, 16, 21) dtype=float32>"
      ]
     },
     "execution_count": 13,
     "metadata": {},
     "output_type": "execute_result"
    }
   ],
   "source": [
    "fc8 = Conv2D(filters=21,kernel_size=1, activation=\"relu\",padding=\"SAME\", name=\"fc8\")(fc7)"
   ]
  },
  {
   "cell_type": "code",
   "execution_count": 109,
   "metadata": {},
   "outputs": [
    {
     "data": {
      "text/plain": [
       "<tf.Tensor 'input_3:0' shape=(?, 4, 4, 21) dtype=float32>"
      ]
     },
     "execution_count": 109,
     "metadata": {},
     "output_type": "execute_result"
    }
   ],
   "source": [
    "model = Keras."
   ]
  }
 ],
 "metadata": {
  "kernelspec": {
   "display_name": "Python 3",
   "language": "python",
   "name": "python3"
  },
  "language_info": {
   "codemirror_mode": {
    "name": "ipython",
    "version": 3
   },
   "file_extension": ".py",
   "mimetype": "text/x-python",
   "name": "python",
   "nbconvert_exporter": "python",
   "pygments_lexer": "ipython3",
   "version": "3.6.7"
  }
 },
 "nbformat": 4,
 "nbformat_minor": 2
}
